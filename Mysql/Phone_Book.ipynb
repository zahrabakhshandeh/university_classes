{
 "cells": [
  {
   "cell_type": "markdown",
   "id": "5ad83c18",
   "metadata": {},
   "source": [
    "## import Library"
   ]
  },
  {
   "cell_type": "code",
   "execution_count": 2,
   "id": "992cec44",
   "metadata": {},
   "outputs": [],
   "source": [
    "import mysql.connector"
   ]
  },
  {
   "cell_type": "markdown",
   "id": "27d00ad3",
   "metadata": {},
   "source": [
    "## connet to the phone_book dataset"
   ]
  },
  {
   "cell_type": "code",
   "execution_count": 3,
   "id": "25b0992d",
   "metadata": {},
   "outputs": [],
   "source": [
    "# Connect to the database\n",
    "cnx = mysql.connector.connect(user='user', password='youpass',\n",
    "                              host='localhost', database='phone_book')\n"
   ]
  },
  {
   "cell_type": "markdown",
   "id": "c3dbacd3",
   "metadata": {},
   "source": [
    "# Functions"
   ]
  },
  {
   "cell_type": "markdown",
   "id": "0391cd48",
   "metadata": {},
   "source": [
    "## add contact"
   ]
  },
  {
   "cell_type": "code",
   "execution_count": 4,
   "id": "15730d26",
   "metadata": {},
   "outputs": [],
   "source": [
    "# Define a function to add an contact to the phone book\n",
    "def add(name, phone):\n",
    "    cursor = cnx.cursor()\n",
    "    query = \"INSERT INTO contacts (name, phone) VALUES (%s, %s)\"\n",
    "    values = (name, phone)\n",
    "    cursor.execute(query, values)\n",
    "    cnx.commit()\n",
    "    cursor.close()"
   ]
  },
  {
   "cell_type": "markdown",
   "id": "8c047061",
   "metadata": {},
   "source": [
    "# search contact"
   ]
  },
  {
   "cell_type": "code",
   "execution_count": 5,
   "id": "f074b98c",
   "metadata": {},
   "outputs": [],
   "source": [
    "# Define a function to search for contacts in the phone book\n",
    "def search(name):\n",
    "    cursor = cnx.cursor()\n",
    "    query = \"SELECT * FROM contacts WHERE name LIKE %s\"\n",
    "    values = (name + '%',)\n",
    "    cursor.execute(query, values)\n",
    "    contacts = cursor.fetchall()\n",
    "    cursor.close()\n",
    "    return contacts"
   ]
  },
  {
   "cell_type": "markdown",
   "id": "3680a866",
   "metadata": {},
   "source": [
    "## delete contact"
   ]
  },
  {
   "cell_type": "code",
   "execution_count": 6,
   "id": "bdcd3c38",
   "metadata": {},
   "outputs": [],
   "source": [
    "# Define a function to delete an contact from the phone book\n",
    "def delete(name):\n",
    "    cursor = cnx.cursor()\n",
    "    query = \"DELETE FROM contacts WHERE name = %s\"\n",
    "    values = (name,)\n",
    "    cursor.execute(query, values)\n",
    "    cnx.commit()\n",
    "    cursor.close()\n"
   ]
  },
  {
   "cell_type": "markdown",
   "id": "d08a624c",
   "metadata": {},
   "source": [
    "## main"
   ]
  },
  {
   "cell_type": "code",
   "execution_count": null,
   "id": "69a2fdf2",
   "metadata": {},
   "outputs": [],
   "source": [
    "\n",
    "# Add some contacts to the phone book\n",
    "add('contact1', '0912345')\n",
    "add('contact2', '0923765')\n",
    "add('contact3', '0954321')\n",
    "\n",
    "# Search for contact in the phone book\n",
    "results = search('contact1')\n",
    "for contact in results:\n",
    "    print(contact)\n",
    "\n",
    "# Delete an contact from the phone book\n",
    "delete(\"contact1\")\n",
    "\n",
    "# Close the database connection\n",
    "cnx.close()"
   ]
  }
 ],
 "metadata": {
  "kernelspec": {
   "display_name": "Python 3 (ipykernel)",
   "language": "python",
   "name": "python3"
  },
  "language_info": {
   "codemirror_mode": {
    "name": "ipython",
    "version": 3
   },
   "file_extension": ".py",
   "mimetype": "text/x-python",
   "name": "python",
   "nbconvert_exporter": "python",
   "pygments_lexer": "ipython3",
   "version": "3.9.13"
  }
 },
 "nbformat": 4,
 "nbformat_minor": 5
}
