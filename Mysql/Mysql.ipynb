{
 "cells": [
  {
   "cell_type": "markdown",
   "id": "4e882f1b",
   "metadata": {},
   "source": [
    "# Install MySql\n",
    "    1. sudo apt update\n",
    "    2. sudo apt upgrade\n",
    "    3. sudo apt install mysql-server\n",
    "    4. mysql --version\n",
    "    \n",
    "    Password\n",
    "    1. sudo mysql -u root\n",
    "    2. USE mysql;\n",
    "    3. ALTER USER 'root'@'localhost' IDENTIFIED WITH mysql_native_password BY 'yourpass';\n",
    "    \n",
    "# Install Mysql.connector (Python Library)\n",
    "    python -m pip install mysql-connector-python\n"
   ]
  },
  {
   "cell_type": "markdown",
   "id": "e7401946",
   "metadata": {},
   "source": [
    "# Import Library"
   ]
  },
  {
   "cell_type": "code",
   "execution_count": 1,
   "id": "bc3dac74",
   "metadata": {},
   "outputs": [],
   "source": [
    "import mysql.connector"
   ]
  },
  {
   "cell_type": "markdown",
   "id": "212de09a",
   "metadata": {},
   "source": [
    "# creating a connection"
   ]
  },
  {
   "cell_type": "code",
   "execution_count": 3,
   "id": "98eb787d",
   "metadata": {},
   "outputs": [],
   "source": [
    "mydb = mysql.connector.connect(\n",
    "  host=\"localhost\",\n",
    "  user=\"root\",\n",
    "  password=\"pass\"\n",
    ")\n",
    "mycursor = mydb.cursor()"
   ]
  },
  {
   "cell_type": "markdown",
   "id": "fc877ee2",
   "metadata": {},
   "source": [
    "# Create new Dataset"
   ]
  },
  {
   "cell_type": "code",
   "execution_count": 4,
   "id": "69872e5f",
   "metadata": {},
   "outputs": [],
   "source": [
    "sql = \"CREATE DATABASE database1\"\n",
    "mycursor.execute(sql)"
   ]
  },
  {
   "cell_type": "markdown",
   "id": "f5f9209a",
   "metadata": {},
   "source": [
    "# Show all Datasets"
   ]
  },
  {
   "cell_type": "code",
   "execution_count": 5,
   "id": "0558385b",
   "metadata": {},
   "outputs": [],
   "source": [
    "mycursor = mydb.cursor()"
   ]
  },
  {
   "cell_type": "code",
   "execution_count": 6,
   "id": "0aac2488",
   "metadata": {},
   "outputs": [],
   "source": [
    "sql1 = \"SHOW DATABASES\"\n",
    "mycursor.execute(sql1)"
   ]
  },
  {
   "cell_type": "code",
   "execution_count": 8,
   "id": "38d4fe36",
   "metadata": {},
   "outputs": [],
   "source": [
    "mycursor.fetchall()"
   ]
  },
  {
   "cell_type": "markdown",
   "id": "660bebfa",
   "metadata": {},
   "source": [
    "# Remove a Dataset"
   ]
  },
  {
   "cell_type": "code",
   "execution_count": 9,
   "id": "1f41257c",
   "metadata": {},
   "outputs": [],
   "source": [
    "sql1 = \"DROP DATABASE database1\"\n",
    "mycursor.execute(sql1)"
   ]
  },
  {
   "cell_type": "markdown",
   "id": "66d62915",
   "metadata": {},
   "source": [
    "# Connecting to \"online_shop\""
   ]
  },
  {
   "cell_type": "code",
   "execution_count": 10,
   "id": "6ad516db",
   "metadata": {},
   "outputs": [],
   "source": [
    "mydb = mysql.connector.connect(\n",
    "    host=\"localhost\",\n",
    "    user=\"root\",\n",
    "    password=\"pass\",\n",
    "    database = \"online_shop\"\n",
    ")"
   ]
  },
  {
   "cell_type": "code",
   "execution_count": 11,
   "id": "ec6e731e",
   "metadata": {},
   "outputs": [],
   "source": [
    "mycursor = mydb.cursor()"
   ]
  },
  {
   "cell_type": "markdown",
   "id": "e86eaeb2",
   "metadata": {},
   "source": [
    "# Creating tables"
   ]
  },
  {
   "cell_type": "code",
   "execution_count": 8,
   "id": "72b8a2d7",
   "metadata": {},
   "outputs": [],
   "source": [
    "sql = \"\"\"\n",
    "        CREATE TABLE Users(\n",
    "        user_id int NOT NULL auto_increment,\n",
    "        first_name varchar(255),\n",
    "        last_name varchar(255) NOT NULL,\n",
    "        age int,\n",
    "        PRIMARY KEY (user_id)\n",
    "        );\n",
    "    \"\"\""
   ]
  },
  {
   "cell_type": "code",
   "execution_count": 2,
   "id": "7291966c",
   "metadata": {},
   "outputs": [],
   "source": [
    "mycursor.execute(sql)"
   ]
  },
  {
   "cell_type": "code",
   "execution_count": null,
   "id": "3defc425",
   "metadata": {},
   "outputs": [],
   "source": [
    "sql = \"\"\"\n",
    "        CREATE TABLE Orders(\n",
    "        order_id int NOT NULL auto_increment,\n",
    "        name varchar(255) NOT NULL,\n",
    "        price int NOT NULL,\n",
    "        user_id int NOT NULL,\n",
    "        PRIMARY KEY (order_id),\n",
    "        FOREIGN KEY (user_id) REFERENCES Users (user_id)\n",
    "        );\n",
    "    \"\"\""
   ]
  },
  {
   "cell_type": "code",
   "execution_count": null,
   "id": "63495f7a",
   "metadata": {},
   "outputs": [],
   "source": [
    "mycursor.execute(sql)"
   ]
  },
  {
   "cell_type": "markdown",
   "id": "ccfa845c",
   "metadata": {},
   "source": [
    "# Show Tables"
   ]
  },
  {
   "cell_type": "code",
   "execution_count": 12,
   "id": "3a5469fd",
   "metadata": {},
   "outputs": [],
   "source": [
    "sql = \"SHOW TABLES\"\n",
    "mycursor.execute(sql)"
   ]
  },
  {
   "cell_type": "code",
   "execution_count": 13,
   "id": "d161f378",
   "metadata": {},
   "outputs": [
    {
     "data": {
      "text/plain": [
       "[('Orders',), ('Users',)]"
      ]
     },
     "execution_count": 13,
     "metadata": {},
     "output_type": "execute_result"
    }
   ],
   "source": [
    "mycursor.fetchall()"
   ]
  },
  {
   "cell_type": "markdown",
   "id": "cd07d3d7",
   "metadata": {},
   "source": [
    "## DROP TABLE"
   ]
  },
  {
   "cell_type": "code",
   "execution_count": 15,
   "id": "76a2d259",
   "metadata": {},
   "outputs": [],
   "source": [
    "sql1 = \"DROP TABLE Orders\"\n",
    "#mycursor.execute(sql1)"
   ]
  },
  {
   "cell_type": "markdown",
   "id": "f61cb456",
   "metadata": {},
   "source": [
    "# Insert data"
   ]
  },
  {
   "cell_type": "code",
   "execution_count": 16,
   "id": "82768b79",
   "metadata": {},
   "outputs": [],
   "source": [
    "sql = \"INSERT INTO Users (first_name, last_name, age) VALUES ('a', 'b', 12)\""
   ]
  },
  {
   "cell_type": "code",
   "execution_count": 17,
   "id": "31284e91",
   "metadata": {},
   "outputs": [],
   "source": [
    "mycursor.execute(sql)"
   ]
  },
  {
   "cell_type": "code",
   "execution_count": 18,
   "id": "065f3c6a",
   "metadata": {},
   "outputs": [],
   "source": [
    "mydb.commit()"
   ]
  },
  {
   "cell_type": "code",
   "execution_count": 19,
   "id": "ab2e60e1",
   "metadata": {},
   "outputs": [],
   "source": [
    "sql = \"\"\"\n",
    "        INSERT INTO Orders (name, price, user_id)\n",
    "        VALUES\n",
    "        ('p1', 100, 1),\n",
    "        ('p2', 200, 1),\n",
    "        ('p3', 300, 2)\n",
    "        \n",
    "    \"\"\""
   ]
  },
  {
   "cell_type": "code",
   "execution_count": 20,
   "id": "a0a7797e",
   "metadata": {},
   "outputs": [],
   "source": [
    "mycursor.execute(sql)"
   ]
  },
  {
   "cell_type": "code",
   "execution_count": 21,
   "id": "918869df",
   "metadata": {},
   "outputs": [],
   "source": [
    "mydb.commit()"
   ]
  },
  {
   "cell_type": "markdown",
   "id": "39377804",
   "metadata": {},
   "source": [
    "# Select"
   ]
  },
  {
   "cell_type": "code",
   "execution_count": 22,
   "id": "2f77373f",
   "metadata": {},
   "outputs": [],
   "source": [
    "sql = \"SELECT * FROM Orders WHERE name = 'p2'\"\n",
    "mycursor.execute(sql)"
   ]
  },
  {
   "cell_type": "code",
   "execution_count": 23,
   "id": "ff53a1ad",
   "metadata": {},
   "outputs": [
    {
     "data": {
      "text/plain": [
       "[(2, 'p2', 200, 1), (5, 'p2', 200, 1)]"
      ]
     },
     "execution_count": 23,
     "metadata": {},
     "output_type": "execute_result"
    }
   ],
   "source": [
    "mycursor.fetchall()"
   ]
  },
  {
   "cell_type": "code",
   "execution_count": 24,
   "id": "f2fd319b",
   "metadata": {},
   "outputs": [],
   "source": [
    "sql = \"SELECT * FROM Orders WHERE name LIKE 'p%'\"\n",
    "mycursor.execute(sql)"
   ]
  },
  {
   "cell_type": "code",
   "execution_count": 25,
   "id": "89a6c5c6",
   "metadata": {},
   "outputs": [
    {
     "data": {
      "text/plain": [
       "[(1, 'p1', 100, 1),\n",
       " (2, 'p2', 200, 1),\n",
       " (3, 'p3', 300, 2),\n",
       " (4, 'p1', 100, 1),\n",
       " (5, 'p2', 200, 1),\n",
       " (6, 'p3', 300, 2)]"
      ]
     },
     "execution_count": 25,
     "metadata": {},
     "output_type": "execute_result"
    }
   ],
   "source": [
    "mycursor.fetchall()"
   ]
  },
  {
   "cell_type": "markdown",
   "id": "33fd046e",
   "metadata": {},
   "source": [
    "# Remove data"
   ]
  },
  {
   "cell_type": "code",
   "execution_count": 26,
   "id": "95b989a6",
   "metadata": {},
   "outputs": [],
   "source": [
    "# DELETE FROM TABLE_NAME WHERE conditon\n",
    "sql = \"DELETE FROM Users WHERE user_id = 3\"\n",
    "mycursor.execute(sql)"
   ]
  },
  {
   "cell_type": "code",
   "execution_count": 27,
   "id": "a51bdb1f",
   "metadata": {},
   "outputs": [],
   "source": [
    "sql = \"DELETE FROM Orders WHERE name LIKE '%2%'\"\n",
    "mycursor.execute(sql)"
   ]
  },
  {
   "cell_type": "markdown",
   "id": "482d9f36",
   "metadata": {},
   "source": [
    "# Update data"
   ]
  },
  {
   "cell_type": "code",
   "execution_count": 28,
   "id": "776d44b0",
   "metadata": {},
   "outputs": [],
   "source": [
    "sql = \"SELECT * FROM Orders\"\n",
    "mycursor.execute(sql)"
   ]
  },
  {
   "cell_type": "code",
   "execution_count": 29,
   "id": "2008c5d3",
   "metadata": {},
   "outputs": [
    {
     "data": {
      "text/plain": [
       "[(1, 'p1', 100, 1), (3, 'p3', 300, 2), (4, 'p1', 100, 1), (6, 'p3', 300, 2)]"
      ]
     },
     "execution_count": 29,
     "metadata": {},
     "output_type": "execute_result"
    }
   ],
   "source": [
    "mycursor.fetchall()"
   ]
  },
  {
   "cell_type": "code",
   "execution_count": 30,
   "id": "71662882",
   "metadata": {},
   "outputs": [],
   "source": [
    "sql = \"\"\"UPDATE Orders SET price = 0.1 * price + price\n",
    "            WHERE price > 300\n",
    "        \"\"\"\n",
    "mycursor.execute(sql)"
   ]
  },
  {
   "cell_type": "markdown",
   "id": "edd5d8c0",
   "metadata": {},
   "source": [
    "# Join"
   ]
  },
  {
   "cell_type": "markdown",
   "id": "bec91d6a",
   "metadata": {},
   "source": [
    "## INNER JOIN"
   ]
  },
  {
   "cell_type": "code",
   "execution_count": 31,
   "id": "5ea55dfc",
   "metadata": {},
   "outputs": [],
   "source": [
    "sql = \"\"\"\n",
    "        SELECT first_name, name FROM Orders INNER JOIN Users\n",
    "        ON Orders.user_id = Users.user_id\n",
    "    \"\"\"\n",
    "mycursor.execute(sql)"
   ]
  },
  {
   "cell_type": "code",
   "execution_count": 32,
   "id": "7bc86802",
   "metadata": {},
   "outputs": [
    {
     "data": {
      "text/plain": [
       "[('ali', 'p1'), ('sara', 'p3'), ('ali', 'p1'), ('sara', 'p3')]"
      ]
     },
     "execution_count": 32,
     "metadata": {},
     "output_type": "execute_result"
    }
   ],
   "source": [
    "mycursor.fetchall()"
   ]
  },
  {
   "cell_type": "markdown",
   "id": "7528f2f8",
   "metadata": {},
   "source": [
    "# LEFT JOIN"
   ]
  },
  {
   "cell_type": "code",
   "execution_count": 33,
   "id": "fd34c693",
   "metadata": {},
   "outputs": [],
   "source": [
    "sql = \"\"\"\n",
    "        SELECT first_name, name FROM Users LEFT JOIN Orders \n",
    "        ON Orders.user_id = Users.user_id\n",
    "    \"\"\"\n",
    "mycursor.execute(sql)"
   ]
  },
  {
   "cell_type": "code",
   "execution_count": 34,
   "id": "5419aa6f",
   "metadata": {},
   "outputs": [
    {
     "data": {
      "text/plain": [
       "[('ali', 'p1'),\n",
       " ('ali', 'p1'),\n",
       " ('sara', 'p3'),\n",
       " ('sara', 'p3'),\n",
       " ('aaa', None),\n",
       " ('aaa', None),\n",
       " ('a', None)]"
      ]
     },
     "execution_count": 34,
     "metadata": {},
     "output_type": "execute_result"
    }
   ],
   "source": [
    "mycursor.fetchall()"
   ]
  },
  {
   "cell_type": "markdown",
   "id": "883bfa71",
   "metadata": {},
   "source": [
    "## RIGHT JOIN"
   ]
  },
  {
   "cell_type": "code",
   "execution_count": 35,
   "id": "06968f60",
   "metadata": {},
   "outputs": [],
   "source": [
    "sql = \"\"\"\n",
    "        SELECT first_name, name FROM Orders RIGHT JOIN Users\n",
    "        ON Orders.user_id = Users.user_id\n",
    "    \"\"\"\n",
    "mycursor.execute(sql)"
   ]
  },
  {
   "cell_type": "code",
   "execution_count": 36,
   "id": "754c7f1a",
   "metadata": {},
   "outputs": [
    {
     "data": {
      "text/plain": [
       "[('ali', 'p1'),\n",
       " ('ali', 'p1'),\n",
       " ('sara', 'p3'),\n",
       " ('sara', 'p3'),\n",
       " ('aaa', None),\n",
       " ('aaa', None),\n",
       " ('a', None)]"
      ]
     },
     "execution_count": 36,
     "metadata": {},
     "output_type": "execute_result"
    }
   ],
   "source": [
    "mycursor.fetchall()"
   ]
  }
 ],
 "metadata": {
  "kernelspec": {
   "display_name": "Python 3 (ipykernel)",
   "language": "python",
   "name": "python3"
  },
  "language_info": {
   "codemirror_mode": {
    "name": "ipython",
    "version": 3
   },
   "file_extension": ".py",
   "mimetype": "text/x-python",
   "name": "python",
   "nbconvert_exporter": "python",
   "pygments_lexer": "ipython3",
   "version": "3.9.13"
  }
 },
 "nbformat": 4,
 "nbformat_minor": 5
}
